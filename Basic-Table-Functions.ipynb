{
 "cells": [
  {
   "cell_type": "markdown",
   "metadata": {},
   "source": [
    "## Basic Table Functions\n",
    "**For the datascience package** "
   ]
  },
  {
   "cell_type": "code",
   "execution_count": null,
   "metadata": {},
   "outputs": [],
   "source": [
    "from datascience import *"
   ]
  },
  {
   "cell_type": "markdown",
   "metadata": {},
   "source": [
    "_**Remember to always save your table as a variable, because operations listed below do not modify the original table.**_ Note that the label or the index has to exist in the table, otherwise, the command will generate an error."
   ]
  },
  {
   "cell_type": "markdown",
   "metadata": {},
   "source": [
    "| Method                                                                       | Description                                                                           |\n",
    "|------------------------------------------------------------------------------|---------------------------------------------------------------------------------------|\n",
    "| `tbl.sort(column_Index)`                | Return a new table sorted by the values in the column from `tbl`, which was specified by the index of a column (remember that columns are counted from 0) |\n",
    "| `tbl.sort(\"Column label/name\")`               | Return a new table sorted by the values in the column from `tbl`, which was specified by its label (i.e., column name) that was given as a string |\n",
    "| `tbl.sort(columnIndex_or_label, descedning = False, distinct = False)`     | Return a new table sorted by the values in the column specified as described above. By default, the values are sorted from lowest to highest (i.e., ascending), hence, `descedning = False`, and repeated values (i.e., non-distinct) are displayed (hence, `distinct = False`). |\n",
    "| `tbl.select(Column_index)` or `tbl.select(Column_index1, Column_index2, ...)`             | Return a new table with the column(s) specified by the index (if just one) or indices (if more than one).     |\n",
    "| `tbl.select(\"Column name\")` or `tbl.select(\"Column name1\", \"Column name2\", ...)`             | Return a new table with the column(s) specified by their label(s).     |\n",
    "| `tbl.column(Column_Index_or_Label)`                                        | Return **an array** with the values of _one_ column; that column was specified by its index or label.          |\n",
    "| `tbl.take(index)`                                      | Return a new table with the **one** row (from the original table) specified by its index (remember that rows are counted from 0).                                          |\n",
    "| `tbl.take(array_of_indices)`                                      | Return a new table with the rows specified by **an array** containing the indices of the rows that will be in the new table. The rows will be listed in the same order as specified in the array.                                         |\n",
    "| `tbl.where(columnIndex_or_label, value_or_condition = None)` | Return a new table containing row(s) where the column values specified by either the column index or column label/name satisy the value or condition.       |"
   ]
  },
  {
   "cell_type": "markdown",
   "metadata": {},
   "source": [
    "**Predicate Statements for the `where`**\n",
    "\n",
    "|Predicate|Example|Result|\n",
    "|-|-|-|\n",
    "|`are.equal_to`|`are.equal_to(50)`|Find rows with values equal to 50|\n",
    "|`are.not_equal_to`|`are.not_equal_to(50)`|Find rows with values not equal to 50|\n",
    "|`are.above`|`are.above(50)`|Find rows with values above (and not equal to) 50|\n",
    "|`are.above_or_equal_to`|`are.above_or_equal_to(50)`|Find rows with values above 50 or equal to 50|\n",
    "|`are.below`|`are.below(50)`|Find rows with values below 50|\n",
    "|`are.between`|`are.between(2, 10)`|Find rows with values above or equal to 2 and below 10|"
   ]
  },
  {
   "cell_type": "markdown",
   "metadata": {},
   "source": [
    "## `Table.sort(column_or_label, descending=False, distinct=False)`\n",
    "_**Return a Table with rows sorted according to the values in a given column.**_\n",
    "\n",
    "`column_or_label`: the column whose values are used for sorting.\n",
    "\n",
    "**`descending`:** if `descending=True`, sorting will be in descending, rather than\n",
    "ascending order.\n",
    "\n",
    "**`distinct`:** if `distinct=True`, repeated values in the specified colum will\n",
    "be omitted.\n",
    "\n",
    "**Returns:** A new Table containing rows sorted based on the values in the specified column."
   ]
  },
  {
   "cell_type": "markdown",
   "metadata": {},
   "source": [
    "Examples:"
   ]
  },
  {
   "cell_type": "code",
   "execution_count": null,
   "metadata": {},
   "outputs": [],
   "source": [
    "#Table for Example \n",
    ">>> marbles = Table().with_columns(\n",
    "...    \"Color\", make_array(\"Red\", \"Green\", \"Blue\", \"Red\", \"Green\", \"Green\"),\n",
    "...    \"Shape\", make_array(\"Round\", \"Rectangular\", \"Rectangular\", \"Round\", \"Rectangular\", \"Round\"),\n",
    "...    \"Amount\", make_array(4, 6, 12, 7, 9, 2),\n",
    "...    \"Price\", make_array(1.30, 1.30, 2.00, 1.75, 1.40, 1.00))"
   ]
  },
  {
   "cell_type": "code",
   "execution_count": null,
   "metadata": {},
   "outputs": [],
   "source": [
    "marbles"
   ]
  },
  {
   "cell_type": "code",
   "execution_count": null,
   "metadata": {},
   "outputs": [],
   "source": [
    "marbles.sort(\"Amount\")"
   ]
  },
  {
   "cell_type": "code",
   "execution_count": null,
   "metadata": {},
   "outputs": [],
   "source": [
    "marbles.sort(\"Amount\", descending = True)"
   ]
  },
  {
   "cell_type": "code",
   "execution_count": null,
   "metadata": {},
   "outputs": [],
   "source": [
    "marbles.sort(3) # the Price column"
   ]
  },
  {
   "cell_type": "code",
   "execution_count": null,
   "metadata": {},
   "outputs": [],
   "source": [
    "marbles.sort(3, distinct = True)"
   ]
  },
  {
   "cell_type": "code",
   "execution_count": null,
   "metadata": {},
   "outputs": [],
   "source": [
    "# Another way to run the previous command using a variable\n",
    "price_column = 3\n",
    "marbles.sort(price_column, distinct = True)"
   ]
  },
  {
   "cell_type": "markdown",
   "metadata": {},
   "source": [
    "## `Table.select(*column_or_columns)`\n",
    "**Return a table with only the columns in column_or_columns.**\n",
    "\n",
    "`column_or_columns`: Columns to select from the `Table` as either column labels (`string`) or column indices (`int`).\n",
    "\n",
    "**Returns:**\n",
    "A new `Table` containing only selected columns. The columns of the new `Table` are in the order given in `column_or_columns`.\n",
    "\n",
    "**Potential error:**\n",
    "`KeyError` if any of `column_or_columns` are not in the table."
   ]
  },
  {
   "cell_type": "code",
   "execution_count": null,
   "metadata": {},
   "outputs": [],
   "source": [
    "#Table for Example\n",
    ">>> flowers = Table().with_columns(\n",
    "...     'Number of petals', make_array(8, 34, 5),\n",
    "...     'Name', make_array('lotus', 'sunflower', 'rose'),\n",
    "...     'Weight', make_array(10, 5, 6)\n",
    "... )"
   ]
  },
  {
   "cell_type": "code",
   "execution_count": null,
   "metadata": {},
   "outputs": [],
   "source": [
    "flowers"
   ]
  },
  {
   "cell_type": "code",
   "execution_count": null,
   "metadata": {},
   "outputs": [],
   "source": [
    "flowers.select('Number of petals', 'Weight')"
   ]
  },
  {
   "cell_type": "code",
   "execution_count": null,
   "metadata": {},
   "outputs": [],
   "source": [
    "flowers.select(0, 2)"
   ]
  },
  {
   "cell_type": "code",
   "execution_count": null,
   "metadata": {},
   "outputs": [],
   "source": [
    "# select the name and the number of petals\n"
   ]
  },
  {
   "cell_type": "markdown",
   "metadata": {},
   "source": [
    "## `Table.column(index_or_label)`\n",
    "**Return the values of a column as an array.**\n",
    "\n",
    "`table.column(\"Column name\")` is equivalent to `table[\"Column name\"]`."
   ]
  },
  {
   "cell_type": "code",
   "execution_count": null,
   "metadata": {},
   "outputs": [],
   "source": [
    "#Table for Example\n",
    ">>> tiles = Table().with_columns(\n",
    "...     'letter', make_array('c', 'd'),\n",
    "...     'count',  make_array(2, 4),\n",
    "... )"
   ]
  },
  {
   "cell_type": "code",
   "execution_count": null,
   "metadata": {},
   "outputs": [],
   "source": [
    "tiles.column('letter')"
   ]
  },
  {
   "cell_type": "code",
   "execution_count": null,
   "metadata": {},
   "outputs": [],
   "source": [
    "tiles.column(1)"
   ]
  },
  {
   "cell_type": "markdown",
   "metadata": {},
   "source": [
    "## `Table.take()`\n",
    "**Return a new Table with rows selected by the given index.**\n",
    "\n",
    "**Args:**\n",
    "`row_indices_or_slice` (integer or array of integers): The row index, list of row indices or a slice of row indices to be selected.\n",
    "\n",
    "**Returns:**\n",
    "A new instance of `Table` with selected rows in order corresponding to `row_indices_or_slice`.\n",
    "\n",
    "**Raises:** \n",
    "`IndexError`, if any `row_indices_or_slice` is out of bounds with respect to column length."
   ]
  },
  {
   "cell_type": "code",
   "execution_count": null,
   "metadata": {},
   "outputs": [],
   "source": [
    "#Table for Example\n",
    ">>> grades = Table().with_columns('letter grade',\n",
    "...     make_array('A+', 'A', 'A-', 'B+', 'B', 'B-'),\n",
    "...     'gpa', make_array(4, 4, 3.7, 3.3, 3, 2.7))"
   ]
  },
  {
   "cell_type": "code",
   "execution_count": null,
   "metadata": {},
   "outputs": [],
   "source": [
    "grades"
   ]
  },
  {
   "cell_type": "code",
   "execution_count": null,
   "metadata": {},
   "outputs": [],
   "source": [
    "grades.take(0)"
   ]
  },
  {
   "cell_type": "code",
   "execution_count": null,
   "metadata": {},
   "outputs": [],
   "source": [
    "grades.take(-1)"
   ]
  },
  {
   "cell_type": "code",
   "execution_count": null,
   "metadata": {},
   "outputs": [],
   "source": [
    "grades.take(make_array(2, 1, 0))"
   ]
  },
  {
   "cell_type": "code",
   "execution_count": null,
   "metadata": {},
   "outputs": [],
   "source": [
    "grades.take[:3]"
   ]
  },
  {
   "cell_type": "code",
   "execution_count": null,
   "metadata": {},
   "outputs": [],
   "source": [
    "grades.take(make_array(0,1,2,3))"
   ]
  },
  {
   "cell_type": "markdown",
   "metadata": {},
   "source": [
    "_Make sure to call indeces within the range of the length of the rows. See below:_"
   ]
  },
  {
   "cell_type": "code",
   "execution_count": null,
   "metadata": {},
   "outputs": [],
   "source": [
    "# This will generate an error\n",
    "grades.take(10)"
   ]
  },
  {
   "cell_type": "markdown",
   "metadata": {},
   "source": [
    "## `Table.where(column_or_label, value_or_predicate=None, other=None)`\n",
    "**Return a new `Table` containing rows where `value_or_predicate` returns `True` for values in `column_or_label`.**\n",
    "\n",
    "**Args:**\n",
    "`column_or_label`: A column of the `Table` either as a label (`str`) or an index (`int`). Can also be an array of booleans; only the rows where the array value is `True` are kept.\n",
    "\n",
    "`value_or_predicate`: If a function, it is applied to every value in `column_or_label`. Only the rows where `value_or_predicate` returns `True` are kept. If a single value, only the rows where the values in `column_or_label` are equal to `value_or_predicate` are kept.\n",
    "\n",
    "`other`: Optional additional column label for `value_or_predicate` to make pairwise comparisons. See the examples below for usage. When `other` is supplied, `value_or_predicate` must be a callable function.\n",
    "\n",
    "**Returns:**\n",
    "If `value_or_predicate` is a function, returns a new `Table` containing only the rows where `value_or_predicate(val)` is `True` for the values in `column_or_label`.\n",
    "\n",
    "If `value_or_predicate` is a value, returns a new `Table` containing only the rows where the values in `column_or_label` are equal to `value_or_predicate`.\n",
    "\n",
    "If `column_or_label` is an array of booleans, returns a new `Table` containing only the rows where `column_or_label` is `True`."
   ]
  },
  {
   "cell_type": "code",
   "execution_count": null,
   "metadata": {},
   "outputs": [],
   "source": [
    "#Table for Example\n",
    ">>> marbles = Table().with_columns(\n",
    "...    \"Color\", make_array(\"Red\", \"Green\", \"Blue\",\n",
    "...                        \"Red\", \"Green\", \"Green\"),\n",
    "...    \"Shape\", make_array(\"Round\", \"Rectangular\", \"Rectangular\",\n",
    "...                        \"Round\", \"Rectangular\", \"Round\"),\n",
    "...    \"Amount\", make_array(4, 6, 12, 7, 9, 2),\n",
    "...    \"Price\", make_array(1.30, 1.20, 2.00, 1.75, 0, 3.00))"
   ]
  },
  {
   "cell_type": "code",
   "execution_count": null,
   "metadata": {},
   "outputs": [],
   "source": [
    "marbles"
   ]
  },
  {
   "cell_type": "code",
   "execution_count": null,
   "metadata": {},
   "outputs": [],
   "source": [
    " marbles.where(\"Price\", 1.3)"
   ]
  },
  {
   "cell_type": "code",
   "execution_count": null,
   "metadata": {},
   "outputs": [],
   "source": [
    "# See the list of all predicate statements above\n",
    "marbles.where(\"Price\", are.above(1.5))"
   ]
  },
  {
   "cell_type": "code",
   "execution_count": null,
   "metadata": {},
   "outputs": [],
   "source": [
    "marbles.where(\"Price\", are.above(1.5)).where(\"Color\", are.not_equal_to(\"Red\"))"
   ]
  },
  {
   "cell_type": "code",
   "execution_count": null,
   "metadata": {},
   "outputs": [],
   "source": [
    "# Why could we get away with not using parentesis (i.e, ()) after are.above?\n",
    "marbles.where(\"Price\", are.above, \"Amount\")"
   ]
  },
  {
   "cell_type": "code",
   "execution_count": null,
   "metadata": {},
   "outputs": [],
   "source": [
    "marbles.where(\"Price\", are.equal_to, \"Amount\") "
   ]
  },
  {
   "cell_type": "markdown",
   "metadata": {},
   "source": [
    "Can you explain why this is an empty table?"
   ]
  }
 ],
 "metadata": {
  "kernelspec": {
   "display_name": "Python 3",
   "language": "python",
   "name": "python3"
  },
  "language_info": {
   "codemirror_mode": {
    "name": "ipython",
    "version": 3
   },
   "file_extension": ".py",
   "mimetype": "text/x-python",
   "name": "python",
   "nbconvert_exporter": "python",
   "pygments_lexer": "ipython3",
   "version": "3.7.0"
  }
 },
 "nbformat": 4,
 "nbformat_minor": 2
}
