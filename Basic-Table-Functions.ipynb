{
 "cells": [
  {
   "cell_type": "markdown",
   "metadata": {},
   "source": [
    "## Basic Table Functions\n",
    "**For the datascience package** "
   ]
  },
  {
   "cell_type": "code",
   "execution_count": null,
   "metadata": {},
   "outputs": [],
   "source": [
    "from datascience import *"
   ]
  },
  {
   "cell_type": "markdown",
   "metadata": {},
   "source": [
    "_**Remember to always save your table as a variable.**_"
   ]
  },
  {
   "cell_type": "markdown",
   "metadata": {},
   "source": [
    "| Method                                                                       | Description                                                                           |\n",
    "|------------------------------------------------------------------------------|---------------------------------------------------------------------------------------|\n",
    "| `Table.sort(columnIndex_or_label, descedning = False, distinct = False)`     | Return the table sorted by the values in the column specified by columnIndex_or_label |\n",
    "| `Table.select(Column1, Column2, ...)`                                        | Return the table with the column(s) specified by their index or label as a table.     |\n",
    "| `Table.column(Column_Index_or_Label)`                                        | Return the values of the column specified by its index or label as an array.          |\n",
    "| `Table.take(index OR array_of_indeces)`                                      | Returns the table with the row(s) specified.                                          |\n",
    "| `Table.where(columnIndex_or_label, value_or_condition = None, other = None)` | Returns the table containing rows that satisy the value or condition specified.       |"
   ]
  },
  {
   "cell_type": "markdown",
   "metadata": {},
   "source": [
    "## `Table.sort(column_or_label, descending=False, distinct=False)`\n",
    "_**Return a Table of rows sorted according to the values in a column.**_\n",
    "\n",
    "**Args:** \n",
    "`column_or_label`: the column whose values are used for sorting.\n",
    "\n",
    "**`descending`:** if True, sorting will be in descending, rather than\n",
    "ascending order.\n",
    "\n",
    "**`distinct`:** if True, repeated values in column_or_label will\n",
    "be omitted.\n",
    "\n",
    "**Returns:** An instance of Table containing rows sorted based on the values in column_or_label."
   ]
  },
  {
   "cell_type": "markdown",
   "metadata": {},
   "source": [
    "Examples:"
   ]
  },
  {
   "cell_type": "code",
   "execution_count": null,
   "metadata": {},
   "outputs": [],
   "source": [
    "#Table for Example \n",
    ">>> marbles = Table().with_columns(\n",
    "...    \"Color\", make_array(\"Red\", \"Green\", \"Blue\", \"Red\", \"Green\", \"Green\"),\n",
    "...    \"Shape\", make_array(\"Round\", \"Rectangular\", \"Rectangular\", \"Round\", \"Rectangular\", \"Round\"),\n",
    "...    \"Amount\", make_array(4, 6, 12, 7, 9, 2),\n",
    "...    \"Price\", make_array(1.30, 1.30, 2.00, 1.75, 1.40, 1.00))"
   ]
  },
  {
   "cell_type": "code",
   "execution_count": null,
   "metadata": {},
   "outputs": [],
   "source": [
    "marbles"
   ]
  },
  {
   "cell_type": "code",
   "execution_count": null,
   "metadata": {},
   "outputs": [],
   "source": [
    "marbles.sort(\"Amount\")"
   ]
  },
  {
   "cell_type": "code",
   "execution_count": null,
   "metadata": {},
   "outputs": [],
   "source": [
    "marbles.sort(\"Amount\", descending = True)"
   ]
  },
  {
   "cell_type": "code",
   "execution_count": null,
   "metadata": {},
   "outputs": [],
   "source": [
    "marbles.sort(3) # the Price column"
   ]
  },
  {
   "cell_type": "code",
   "execution_count": null,
   "metadata": {},
   "outputs": [],
   "source": [
    "marbles.sort(3, distinct = True)"
   ]
  },
  {
   "cell_type": "markdown",
   "metadata": {},
   "source": [
    "## `Table.select(*column_or_columns)`\n",
    "**Return a table with only the columns in column_or_columns.**\n",
    "\n",
    "**Args:**\n",
    "`column_or_columns`: Columns to select from the `Table` as either column labels (`str`) or column indices (int).\n",
    "\n",
    "**Returns:**\n",
    "A new instance of `Table` containing only selected columns. The columns of the new `Table` are in the order given in `column_or_columns`.\n",
    "\n",
    "**Raises:**\n",
    "`KeyError` if any of `column_or_columns` are not in the table."
   ]
  },
  {
   "cell_type": "code",
   "execution_count": null,
   "metadata": {},
   "outputs": [],
   "source": [
    "#Table for Example\n",
    ">>> flowers = Table().with_columns(\n",
    "...     'Number of petals', make_array(8, 34, 5),\n",
    "...     'Name', make_array('lotus', 'sunflower', 'rose'),\n",
    "...     'Weight', make_array(10, 5, 6)\n",
    "... )"
   ]
  },
  {
   "cell_type": "code",
   "execution_count": null,
   "metadata": {},
   "outputs": [],
   "source": [
    "flowers"
   ]
  },
  {
   "cell_type": "code",
   "execution_count": null,
   "metadata": {},
   "outputs": [],
   "source": [
    "flowers.select('Number of petals', 'Weight')"
   ]
  },
  {
   "cell_type": "code",
   "execution_count": null,
   "metadata": {},
   "outputs": [],
   "source": [
    "flowers.select(0, 2)"
   ]
  },
  {
   "cell_type": "markdown",
   "metadata": {},
   "source": [
    "## `Table.column(index_or_label)`\n",
    "**Return the values of a column as an array.**\n",
    "\n",
    "`table.column(label)` is equivalent to `table[label]`."
   ]
  },
  {
   "cell_type": "code",
   "execution_count": null,
   "metadata": {},
   "outputs": [],
   "source": [
    "#Table for Example\n",
    ">>> tiles = Table().with_columns(\n",
    "...     'letter', make_array('c', 'd'),\n",
    "...     'count',  make_array(2, 4),\n",
    "... )"
   ]
  },
  {
   "cell_type": "code",
   "execution_count": null,
   "metadata": {},
   "outputs": [],
   "source": [
    "tiles.column('letter')"
   ]
  },
  {
   "cell_type": "code",
   "execution_count": null,
   "metadata": {},
   "outputs": [],
   "source": [
    "tiles.column(1)"
   ]
  },
  {
   "cell_type": "markdown",
   "metadata": {},
   "source": [
    "## `Table.take()`\n",
    "**Return a new Table with selected rows taken by index.**\n",
    "\n",
    "**Args:**\n",
    "`row_indices_or_slice` (integer or array of integers): The row index, list of row indices or a slice of row indices to be selected.\n",
    "\n",
    "**Returns:**\n",
    "A new instance of `Table` with selected rows in order corresponding to `row_indices_or_slice`.\n",
    "\n",
    "**Raises:** \n",
    "`IndexError`, if any `row_indices_or_slice` is out of bounds with respect to column length."
   ]
  },
  {
   "cell_type": "code",
   "execution_count": null,
   "metadata": {},
   "outputs": [],
   "source": [
    "#Table for Example\n",
    ">>> grades = Table().with_columns('letter grade',\n",
    "...     make_array('A+', 'A', 'A-', 'B+', 'B', 'B-'),\n",
    "...     'gpa', make_array(4, 4, 3.7, 3.3, 3, 2.7))"
   ]
  },
  {
   "cell_type": "code",
   "execution_count": null,
   "metadata": {},
   "outputs": [],
   "source": [
    "grades"
   ]
  },
  {
   "cell_type": "code",
   "execution_count": null,
   "metadata": {},
   "outputs": [],
   "source": [
    "grades.take(0)"
   ]
  },
  {
   "cell_type": "code",
   "execution_count": null,
   "metadata": {},
   "outputs": [],
   "source": [
    "grades.take(-1)"
   ]
  },
  {
   "cell_type": "code",
   "execution_count": null,
   "metadata": {},
   "outputs": [],
   "source": [
    "grades.take(make_array(2, 1, 0))"
   ]
  },
  {
   "cell_type": "code",
   "execution_count": null,
   "metadata": {},
   "outputs": [],
   "source": [
    "grades.take[:3]"
   ]
  },
  {
   "cell_type": "code",
   "execution_count": null,
   "metadata": {},
   "outputs": [],
   "source": [
    "grades.take(make_array(0,1,2,3))"
   ]
  },
  {
   "cell_type": "markdown",
   "metadata": {},
   "source": [
    "_Make sure to call indeces within the range of the length of the rows. See below:_"
   ]
  },
  {
   "cell_type": "code",
   "execution_count": null,
   "metadata": {},
   "outputs": [],
   "source": [
    "grades.take(10)"
   ]
  },
  {
   "cell_type": "markdown",
   "metadata": {},
   "source": [
    "## `Table.where(column_or_label, value_or_predicate=None, other=None)`\n",
    "**Return a new `Table` containing rows where `value_or_predicate` returns `True` for values in `column_or_label`.**\n",
    "\n",
    "**Args:**\n",
    "`column_or_label`: A column of the `Table` either as a label (`str`) or an index (`int`). Can also be an array of booleans; only the rows where the array value is `True` are kept.\n",
    "\n",
    "`value_or_predicate`: If a function, it is applied to every value in `column_or_label`. Only the rows where `value_or_predicate` returns `True` are kept. If a single value, only the rows where the values in `column_or_label` are equal to `value_or_predicate` are kept.\n",
    "\n",
    "`other`: Optional additional column label for `value_or_predicate` to make pairwise comparisons. See the examples below for usage. When `other` is supplied, `value_or_predicate` must be a callable function.\n",
    "\n",
    "**Returns:**\n",
    "If `value_or_predicate` is a function, returns a new `Table` containing only the rows where `value_or_predicate(val)` is `True` for the values in `column_or_label`.\n",
    "\n",
    "If `value_or_predicate` is a value, returns a new `Table` containing only the rows where the values in `column_or_label` are equal to `value_or_predicate`.\n",
    "\n",
    "If `column_or_label` is an array of booleans, returns a new `Table` containing only the rows where `column_or_label` is `True`."
   ]
  },
  {
   "cell_type": "code",
   "execution_count": null,
   "metadata": {},
   "outputs": [],
   "source": [
    "#Table for Example\n",
    ">>> marbles = Table().with_columns(\n",
    "...    \"Color\", make_array(\"Red\", \"Green\", \"Blue\",\n",
    "...                        \"Red\", \"Green\", \"Green\"),\n",
    "...    \"Shape\", make_array(\"Round\", \"Rectangular\", \"Rectangular\",\n",
    "...                        \"Round\", \"Rectangular\", \"Round\"),\n",
    "...    \"Amount\", make_array(4, 6, 12, 7, 9, 2),\n",
    "...    \"Price\", make_array(1.30, 1.20, 2.00, 1.75, 0, 3.00))"
   ]
  },
  {
   "cell_type": "code",
   "execution_count": null,
   "metadata": {},
   "outputs": [],
   "source": [
    "marbles"
   ]
  },
  {
   "cell_type": "code",
   "execution_count": null,
   "metadata": {},
   "outputs": [],
   "source": [
    " marbles.where(\"Price\", 1.3)"
   ]
  },
  {
   "cell_type": "markdown",
   "metadata": {},
   "source": [
    "**Predicate Statements**\n",
    "\n",
    "|Predicate|Example|Result|\n",
    "|-|-|-|\n",
    "|`are.equal_to`|`are.equal_to(50)`|Find rows with values equal to 50|\n",
    "|`are.not_equal_to`|`are.not_equal_to(50)`|Find rows with values not equal to 50|\n",
    "|`are.above`|`are.above(50)`|Find rows with values above (and not equal to) 50|\n",
    "|`are.above_or_equal_to`|`are.above_or_equal_to(50)`|Find rows with values above 50 or equal to 50|\n",
    "|`are.below`|`are.below(50)`|Find rows with values below 50|\n",
    "|`are.between`|`are.between(2, 10)`|Find rows with values above or equal to 2 and below 10|"
   ]
  },
  {
   "cell_type": "code",
   "execution_count": null,
   "metadata": {},
   "outputs": [],
   "source": [
    "marbles.where(\"Price\", are.above(1.5))"
   ]
  },
  {
   "cell_type": "code",
   "execution_count": null,
   "metadata": {},
   "outputs": [],
   "source": [
    "marbles.where(\"Price\", are.above, \"Amount\")"
   ]
  },
  {
   "cell_type": "code",
   "execution_count": null,
   "metadata": {},
   "outputs": [],
   "source": [
    "marbles.where(\"Price\", are.equal_to, \"Amount\") "
   ]
  },
  {
   "cell_type": "markdown",
   "metadata": {},
   "source": [
    "Can you explain why this is an empty table?"
   ]
  }
 ],
 "metadata": {
  "kernelspec": {
   "display_name": "Python 3",
   "language": "python",
   "name": "python3"
  },
  "language_info": {
   "codemirror_mode": {
    "name": "ipython",
    "version": 3
   },
   "file_extension": ".py",
   "mimetype": "text/x-python",
   "name": "python",
   "nbconvert_exporter": "python",
   "pygments_lexer": "ipython3",
   "version": "3.6.0"
  }
 },
 "nbformat": 4,
 "nbformat_minor": 2
}
